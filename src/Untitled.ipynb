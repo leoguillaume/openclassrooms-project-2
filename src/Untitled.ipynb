{
 "cells": [
  {
   "cell_type": "code",
   "execution_count": 2,
   "metadata": {},
   "outputs": [
    {
     "name": "stdout",
     "output_type": "stream",
     "text": [
      "                 A       B       C\n",
      "Date                              \n",
      "2015-01-31  1000.0  1000.0  1000.0\n",
      "2015-02-28  1200.0  1400.0  1600.0\n",
      "2015-03-31  1400.0  1800.0  2200.0\n",
      "2015-04-30  1600.0  2200.0  2800.0\n",
      "2015-05-31  1800.0  2600.0  3400.0\n",
      "2015-06-30  2000.0  3000.0  4000.0\n",
      "\n",
      "Estimated growth in one year of line A: 2419.0794979079496\n",
      "\n",
      "Estimated growth in one year of line B: 4838.158995815899\n",
      "\n",
      "Estimated growth in one year of line C: 7257.2384937238485\n"
     ]
    }
   ],
   "source": [
    "import numpy as np \n",
    "import pandas as pd \n",
    "from scipy import stats \n",
    "\n",
    "df = pd.DataFrame() \n",
    "\n",
    "df['A'] = np.linspace(1000, 2000, 6) \n",
    "df['B'] = np.linspace(1000, 3000, 6) \n",
    "df['C'] = np.linspace(1000, 4000, 6) \n",
    "df.index = pd.date_range('1/1/2015', periods=6, freq='M', name='Date') \n",
    "\n",
    "print(df)\n",
    "\n",
    "t = (pd.to_datetime(df.index.values) - pd.to_datetime('2015-01-01')).astype('timedelta64[D]') \n",
    "\n",
    "slope, intercept, r_value, p_value, std_err = stats.linregress(t, df['A']) \n",
    "print ('\\nEstimated growth in one year of line A: ' + str(slope*365)) \n",
    "\n",
    "slope, intercept, r_value, p_value, std_err = stats.linregress(t, df['B']) \n",
    "print ('\\nEstimated growth in one year of line B: ' + str(slope*365)) \n",
    "\n",
    "slope, intercept, r_value, p_value, std_err = stats.linregress(t, df['C']) \n",
    "print ('\\nEstimated growth in one year of line C: ' + str(slope*365)) "
   ]
  },
  {
   "cell_type": "code",
   "execution_count": null,
   "metadata": {},
   "outputs": [],
   "source": []
  }
 ],
 "metadata": {
  "kernelspec": {
   "display_name": "Python 3",
   "language": "python",
   "name": "python3"
  },
  "language_info": {
   "codemirror_mode": {
    "name": "ipython",
    "version": 3
   },
   "file_extension": ".py",
   "mimetype": "text/x-python",
   "name": "python",
   "nbconvert_exporter": "python",
   "pygments_lexer": "ipython3",
   "version": "3.7.6"
  }
 },
 "nbformat": 4,
 "nbformat_minor": 4
}
