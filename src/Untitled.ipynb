{
 "cells": [
  {
   "cell_type": "code",
   "execution_count": 1,
   "metadata": {},
   "outputs": [],
   "source": [
    "a = ['d', 'd', 'd']\n",
    "b = ['e', 'e', 'e']\n",
    "c = ['f', 'f', 'f']"
   ]
  },
  {
   "cell_type": "code",
   "execution_count": 9,
   "metadata": {},
   "outputs": [
    {
     "name": "stdout",
     "output_type": "stream",
     "text": [
      "d e f\n",
      "d e f\n",
      "d e f\n"
     ]
    }
   ],
   "source": [
    "for i, j, k in zip(a, b, c):\n",
    "    print(i, j, k)"
   ]
  },
  {
   "cell_type": "code",
   "execution_count": 2,
   "metadata": {},
   "outputs": [
    {
     "ename": "TypeError",
     "evalue": "tuple expected at most 1 arguments, got 3",
     "output_type": "error",
     "traceback": [
      "\u001b[0;31m---------------------------------------------------------------------------\u001b[0m",
      "\u001b[0;31mTypeError\u001b[0m                                 Traceback (most recent call last)",
      "\u001b[0;32m<ipython-input-2-824379d9c7d5>\u001b[0m in \u001b[0;36m<module>\u001b[0;34m\u001b[0m\n\u001b[0;32m----> 1\u001b[0;31m \u001b[0;32mfor\u001b[0m \u001b[0mi\u001b[0m\u001b[0;34m,\u001b[0m \u001b[0mj\u001b[0m\u001b[0;34m,\u001b[0m \u001b[0mk\u001b[0m \u001b[0;32min\u001b[0m \u001b[0mtuple\u001b[0m\u001b[0;34m(\u001b[0m\u001b[0ma\u001b[0m\u001b[0;34m,\u001b[0m \u001b[0mb\u001b[0m\u001b[0;34m,\u001b[0m \u001b[0mc\u001b[0m\u001b[0;34m)\u001b[0m\u001b[0;34m:\u001b[0m\u001b[0;34m\u001b[0m\u001b[0;34m\u001b[0m\u001b[0m\n\u001b[0m\u001b[1;32m      2\u001b[0m     \u001b[0mprint\u001b[0m\u001b[0;34m(\u001b[0m\u001b[0mi\u001b[0m\u001b[0;34m)\u001b[0m\u001b[0;34m\u001b[0m\u001b[0;34m\u001b[0m\u001b[0m\n",
      "\u001b[0;31mTypeError\u001b[0m: tuple expected at most 1 arguments, got 3"
     ]
    }
   ],
   "source": [
    "for i, j, k in tuple(a, b, c):\n",
    "    print(i)"
   ]
  },
  {
   "cell_type": "code",
   "execution_count": 2,
   "metadata": {},
   "outputs": [
    {
     "name": "stdout",
     "output_type": "stream",
     "text": [
      "                 A       B       C\n",
      "Date                              \n",
      "2015-01-31  1000.0  1000.0  1000.0\n",
      "2015-02-28  1200.0  1400.0  1600.0\n",
      "2015-03-31  1400.0  1800.0  2200.0\n",
      "2015-04-30  1600.0  2200.0  2800.0\n",
      "2015-05-31  1800.0  2600.0  3400.0\n",
      "2015-06-30  2000.0  3000.0  4000.0\n",
      "\n",
      "Estimated growth in one year of line A: 2419.0794979079496\n",
      "\n",
      "Estimated growth in one year of line B: 4838.158995815899\n",
      "\n",
      "Estimated growth in one year of line C: 7257.2384937238485\n"
     ]
    }
   ],
   "source": [
    "import numpy as np \n",
    "import pandas as pd \n",
    "from scipy import stats \n",
    "\n",
    "df = pd.DataFrame() \n",
    "\n",
    "df['A'] = np.linspace(1000, 2000, 6) \n",
    "df['B'] = np.linspace(1000, 3000, 6) \n",
    "df['C'] = np.linspace(1000, 4000, 6) \n",
    "df.index = pd.date_range('1/1/2015', periods=6, freq='M', name='Date') \n",
    "\n",
    "print(df)\n",
    "\n",
    "t = (pd.to_datetime(df.index.values) - pd.to_datetime('2015-01-01')).astype('timedelta64[D]') \n",
    "\n",
    "slope, intercept, r_value, p_value, std_err = stats.linregress(t, df['A']) \n",
    "print ('\\nEstimated growth in one year of line A: ' + str(slope*365)) \n",
    "\n",
    "slope, intercept, r_value, p_value, std_err = stats.linregress(t, df['B']) \n",
    "print ('\\nEstimated growth in one year of line B: ' + str(slope*365)) \n",
    "\n",
    "slope, intercept, r_value, p_value, std_err = stats.linregress(t, df['C']) \n",
    "print ('\\nEstimated growth in one year of line C: ' + str(slope*365)) "
   ]
  },
  {
   "cell_type": "code",
   "execution_count": null,
   "metadata": {},
   "outputs": [],
   "source": [
    "plt.figure(figsize = (12, len(temporal_features) * 6))\n",
    "for i, feature in enumerate(temporal_features):\n",
    "    selected_data = EdStatsData.loc[(EdStatsData['Indicator Code'] == feature) &\n",
    "                                    (EdStatsData.Region.notna())].sort_values(by = 'filling_rate', \n",
    "                                                                              ascending = False).drop_duplicates(subset = 'Region', \n",
    "                                                                                                                 keep = 'first')\n",
    "    index = [f'{row[1][\"Country Name\"]} ({row[1][\"Region\"]})' for row in selected_data.iterrows()]\n",
    "    selected_data.index = index\n",
    "    plt.subplot(len(temporal_features), 1, i+1)\n",
    "    sns.lineplot(data = selected_data.iloc[:,:26].transpose())\n",
    "    plt.xticks(rotation = 80)\n",
    "    plt.title(label = feature, loc = 'left', weight = 'bold')\n",
    "plt.show()"
   ]
  }
 ],
 "metadata": {
  "kernelspec": {
   "display_name": "Python 3",
   "language": "python",
   "name": "python3"
  },
  "language_info": {
   "codemirror_mode": {
    "name": "ipython",
    "version": 3
   },
   "file_extension": ".py",
   "mimetype": "text/x-python",
   "name": "python",
   "nbconvert_exporter": "python",
   "pygments_lexer": "ipython3",
   "version": "3.7.6"
  }
 },
 "nbformat": 4,
 "nbformat_minor": 4
}
