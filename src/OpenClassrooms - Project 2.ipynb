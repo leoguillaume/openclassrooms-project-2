{
 "cells": [
  {
   "cell_type": "markdown",
   "metadata": {},
   "source": [
    "## Libs Imports"
   ]
  },
  {
   "cell_type": "code",
   "execution_count": 1,
   "metadata": {},
   "outputs": [],
   "source": [
    "import pandas as pd\n",
    "import numpy as np\n",
    "import matplotlib.pyplot as plt\n",
    "import seaborn as sns\n",
    "from tqdm import tqdm\n",
    "from geopy.geocoders import Nominatim\n",
    "import os, re, pycountry, folium, lxml.etree, urllib.request, math, warnings\n",
    "pd.set_option(\"display.max_columns\", 500)\n",
    "pd.set_option(\"max_colwidth\", 500)\n",
    "pd.set_option('display.max_rows', 500)\n",
    "warnings.filterwarnings('ignore')\n",
    "geolocator = Nominatim(user_agent=\"openclassroom_project_2\")"
   ]
  },
  {
   "cell_type": "markdown",
   "metadata": {},
   "source": [
    "## Utils"
   ]
  },
  {
   "cell_type": "code",
   "execution_count": 2,
   "metadata": {},
   "outputs": [],
   "source": [
    "def feature_research(pattern:str, topic:str = None, percentage:bool=True) -> 'feature_list':\n",
    "    \"\"\"\n",
    "    Return a list of indicators codes\n",
    "    \n",
    "    Parameters\n",
    "    ----------\n",
    "    pattern:str\n",
    "    Regex pattern to match\n",
    "    \n",
    "    topic:str, optional\n",
    "    Restricts the research to the topics in EdStatsSeries.topic\n",
    "    \n",
    "    percentage:bool, default = True\n",
    "    Restricts the research to the indicators in percentage terms\n",
    "    \"\"\"\n",
    "    feature_list = list()\n",
    "    for row in EdStatsSeries.iterrows():\n",
    "        if topic != None and percentage == True:\n",
    "            if re.search('percentage', row[1]['Long definition'].lower()) \\\n",
    "            and re.search(pattern, row[1]['Long definition'].lower()) \\\n",
    "            and row[1]['Topic'] == topic:\n",
    "                feature_list.append(row[0])\n",
    "        elif topic != None and percentage == False:\n",
    "            if re.search(pattern, row[1]['Long definition'].lower()) \\\n",
    "            and row[1]['Topic'] == topic:\n",
    "                feature_list.append(row[0])\n",
    "                \n",
    "        elif topic == None and percentage == True:\n",
    "            if re.search('percentage', row[1]['Long definition'].lower()) \\\n",
    "            and re.search(pattern, row[1]['Long definition'].lower()):\n",
    "                feature_list.append(row[0])\n",
    "            \n",
    "        else: # topic == None and percentage == False\n",
    "            if re.search(pattern, row[1]['Long definition'].lower()):\n",
    "                feature_list.append(row[0])\n",
    "    return feature_list\n",
    "\n",
    "def get_territory_languages():\n",
    "    \"\"\"\n",
    "    Return dict, country:spoken languages\n",
    "    \"\"\"\n",
    "    url = \"https://raw.githubusercontent.com/unicode-org/cldr/master/common/supplemental/supplementalData.xml\"\n",
    "    langxml = urllib.request.urlopen(url)\n",
    "    langtree = lxml.etree.XML(langxml.read())\n",
    "\n",
    "    territory_languages = {}\n",
    "    for t in langtree.find('territoryInfo').findall('territory'):\n",
    "        langs = {}\n",
    "        for l in t.findall('languagePopulation'):\n",
    "            langs[l.get('type')] = {\n",
    "                'percent': float(l.get('populationPercent')),\n",
    "                'official': bool(l.get('officialStatus'))\n",
    "            }\n",
    "        territory_languages[t.get('type')] = langs\n",
    "    return territory_languages\n",
    "\n",
    "def iso_code_alpha_3_to_alpha_2(x):\n",
    "    try:\n",
    "        return pycountry.countries.get(alpha_3=x).alpha_2\n",
    "    except:\n",
    "        return 1\n",
    "    \n",
    "def map_language(x):\n",
    "    try:\n",
    "        return language_dict[x]\n",
    "    except:\n",
    "        return np.NaN\n",
    "    \n",
    "def map_isolate_languages(x):\n",
    "    if x in isolate_languages:\n",
    "        return 'isolate_language'\n",
    "    else:\n",
    "        return x    "
   ]
  },
  {
   "cell_type": "markdown",
   "metadata": {},
   "source": [
    "## Data imports"
   ]
  },
  {
   "cell_type": "code",
   "execution_count": 3,
   "metadata": {},
   "outputs": [],
   "source": [
    "filepath = '/Users/leoguillaume/Documents/openclassrooms-projects/openclassrooms-project-2/data/Projet+Python_Dataset_Edstats_csv/'"
   ]
  },
  {
   "cell_type": "code",
   "execution_count": 4,
   "metadata": {},
   "outputs": [],
   "source": [
    "csv_list = os.listdir(filepath)"
   ]
  },
  {
   "cell_type": "code",
   "execution_count": 5,
   "metadata": {},
   "outputs": [],
   "source": [
    "for csv in csv_list:\n",
    "    locals()[csv[:-4]] = pd.read_csv(os.path.join(filepath,csv))"
   ]
  },
  {
   "cell_type": "code",
   "execution_count": 6,
   "metadata": {},
   "outputs": [
    {
     "name": "stdout",
     "output_type": "stream",
     "text": [
      "EdStatsCountry.csv\n",
      "----------------------------------------\n",
      "<class 'pandas.core.frame.DataFrame'>\n",
      "RangeIndex: 241 entries, 0 to 240\n",
      "Data columns (total 32 columns):\n",
      " #   Column                                             Non-Null Count  Dtype  \n",
      "---  ------                                             --------------  -----  \n",
      " 0   Country Code                                       241 non-null    object \n",
      " 1   Short Name                                         241 non-null    object \n",
      " 2   Table Name                                         241 non-null    object \n",
      " 3   Long Name                                          241 non-null    object \n",
      " 4   2-alpha code                                       238 non-null    object \n",
      " 5   Currency Unit                                      215 non-null    object \n",
      " 6   Special Notes                                      145 non-null    object \n",
      " 7   Region                                             214 non-null    object \n",
      " 8   Income Group                                       214 non-null    object \n",
      " 9   WB-2 code                                          240 non-null    object \n",
      " 10  National accounts base year                        205 non-null    object \n",
      " 11  National accounts reference year                   32 non-null     float64\n",
      " 12  SNA price valuation                                197 non-null    object \n",
      " 13  Lending category                                   144 non-null    object \n",
      " 14  Other groups                                       58 non-null     object \n",
      " 15  System of National Accounts                        215 non-null    object \n",
      " 16  Alternative conversion factor                      47 non-null     object \n",
      " 17  PPP survey year                                    145 non-null    object \n",
      " 18  Balance of Payments Manual in use                  181 non-null    object \n",
      " 19  External debt Reporting status                     124 non-null    object \n",
      " 20  System of trade                                    200 non-null    object \n",
      " 21  Government Accounting concept                      161 non-null    object \n",
      " 22  IMF data dissemination standard                    181 non-null    object \n",
      " 23  Latest population census                           213 non-null    object \n",
      " 24  Latest household survey                            141 non-null    object \n",
      " 25  Source of most recent Income and expenditure data  160 non-null    object \n",
      " 26  Vital registration complete                        111 non-null    object \n",
      " 27  Latest agricultural census                         142 non-null    object \n",
      " 28  Latest industrial data                             107 non-null    float64\n",
      " 29  Latest trade data                                  185 non-null    float64\n",
      " 30  Latest water withdrawal data                       179 non-null    object \n",
      " 31  Unnamed: 31                                        0 non-null      float64\n",
      "dtypes: float64(4), object(28)\n",
      "memory usage: 60.4+ KB\n",
      "\n",
      "\n",
      "EdStatsCountry-Series.csv\n",
      "----------------------------------------\n",
      "<class 'pandas.core.frame.DataFrame'>\n",
      "RangeIndex: 613 entries, 0 to 612\n",
      "Data columns (total 4 columns):\n",
      " #   Column       Non-Null Count  Dtype  \n",
      "---  ------       --------------  -----  \n",
      " 0   CountryCode  613 non-null    object \n",
      " 1   SeriesCode   613 non-null    object \n",
      " 2   DESCRIPTION  613 non-null    object \n",
      " 3   Unnamed: 3   0 non-null      float64\n",
      "dtypes: float64(1), object(3)\n",
      "memory usage: 19.3+ KB\n",
      "\n",
      "\n",
      "EdStatsData.csv\n",
      "----------------------------------------\n",
      "<class 'pandas.core.frame.DataFrame'>\n",
      "RangeIndex: 886930 entries, 0 to 886929\n",
      "Data columns (total 70 columns):\n",
      " #   Column          Non-Null Count   Dtype  \n",
      "---  ------          --------------   -----  \n",
      " 0   Country Name    886930 non-null  object \n",
      " 1   Country Code    886930 non-null  object \n",
      " 2   Indicator Name  886930 non-null  object \n",
      " 3   Indicator Code  886930 non-null  object \n",
      " 4   1970            72288 non-null   float64\n",
      " 5   1971            35537 non-null   float64\n",
      " 6   1972            35619 non-null   float64\n",
      " 7   1973            35545 non-null   float64\n",
      " 8   1974            35730 non-null   float64\n",
      " 9   1975            87306 non-null   float64\n",
      " 10  1976            37483 non-null   float64\n",
      " 11  1977            37574 non-null   float64\n",
      " 12  1978            37576 non-null   float64\n",
      " 13  1979            36809 non-null   float64\n",
      " 14  1980            89122 non-null   float64\n",
      " 15  1981            38777 non-null   float64\n",
      " 16  1982            37511 non-null   float64\n",
      " 17  1983            38460 non-null   float64\n",
      " 18  1984            38606 non-null   float64\n",
      " 19  1985            90296 non-null   float64\n",
      " 20  1986            39372 non-null   float64\n",
      " 21  1987            38641 non-null   float64\n",
      " 22  1988            38552 non-null   float64\n",
      " 23  1989            37540 non-null   float64\n",
      " 24  1990            124405 non-null  float64\n",
      " 25  1991            74437 non-null   float64\n",
      " 26  1992            75543 non-null   float64\n",
      " 27  1993            75793 non-null   float64\n",
      " 28  1994            77462 non-null   float64\n",
      " 29  1995            131361 non-null  float64\n",
      " 30  1996            76807 non-null   float64\n",
      " 31  1997            73453 non-null   float64\n",
      " 32  1998            84914 non-null   float64\n",
      " 33  1999            118839 non-null  float64\n",
      " 34  2000            176676 non-null  float64\n",
      " 35  2001            123509 non-null  float64\n",
      " 36  2002            124205 non-null  float64\n",
      " 37  2003            130363 non-null  float64\n",
      " 38  2004            128814 non-null  float64\n",
      " 39  2005            184108 non-null  float64\n",
      " 40  2006            140312 non-null  float64\n",
      " 41  2007            137272 non-null  float64\n",
      " 42  2008            134387 non-null  float64\n",
      " 43  2009            142108 non-null  float64\n",
      " 44  2010            242442 non-null  float64\n",
      " 45  2011            146012 non-null  float64\n",
      " 46  2012            147264 non-null  float64\n",
      " 47  2013            137509 non-null  float64\n",
      " 48  2014            113789 non-null  float64\n",
      " 49  2015            131058 non-null  float64\n",
      " 50  2016            16460 non-null   float64\n",
      " 51  2017            143 non-null     float64\n",
      " 52  2020            51436 non-null   float64\n",
      " 53  2025            51436 non-null   float64\n",
      " 54  2030            51436 non-null   float64\n",
      " 55  2035            51436 non-null   float64\n",
      " 56  2040            51436 non-null   float64\n",
      " 57  2045            51436 non-null   float64\n",
      " 58  2050            51436 non-null   float64\n",
      " 59  2055            51436 non-null   float64\n",
      " 60  2060            51436 non-null   float64\n",
      " 61  2065            51436 non-null   float64\n",
      " 62  2070            51436 non-null   float64\n",
      " 63  2075            51436 non-null   float64\n",
      " 64  2080            51436 non-null   float64\n",
      " 65  2085            51436 non-null   float64\n",
      " 66  2090            51436 non-null   float64\n",
      " 67  2095            51436 non-null   float64\n",
      " 68  2100            51436 non-null   float64\n",
      " 69  Unnamed: 69     0 non-null       float64\n",
      "dtypes: float64(66), object(4)\n",
      "memory usage: 473.7+ MB\n",
      "\n",
      "\n",
      "EdStatsFootNote.csv\n",
      "----------------------------------------\n",
      "<class 'pandas.core.frame.DataFrame'>\n",
      "RangeIndex: 643638 entries, 0 to 643637\n",
      "Data columns (total 5 columns):\n",
      " #   Column       Non-Null Count   Dtype  \n",
      "---  ------       --------------   -----  \n",
      " 0   CountryCode  643638 non-null  object \n",
      " 1   SeriesCode   643638 non-null  object \n",
      " 2   Year         643638 non-null  object \n",
      " 3   DESCRIPTION  643638 non-null  object \n",
      " 4   Unnamed: 4   0 non-null       float64\n",
      "dtypes: float64(1), object(4)\n",
      "memory usage: 24.6+ MB\n",
      "\n",
      "\n",
      "EdStatsSeries.csv\n",
      "----------------------------------------\n",
      "<class 'pandas.core.frame.DataFrame'>\n",
      "RangeIndex: 3665 entries, 0 to 3664\n",
      "Data columns (total 21 columns):\n",
      " #   Column                               Non-Null Count  Dtype  \n",
      "---  ------                               --------------  -----  \n",
      " 0   Series Code                          3665 non-null   object \n",
      " 1   Topic                                3665 non-null   object \n",
      " 2   Indicator Name                       3665 non-null   object \n",
      " 3   Short definition                     2156 non-null   object \n",
      " 4   Long definition                      3665 non-null   object \n",
      " 5   Unit of measure                      0 non-null      float64\n",
      " 6   Periodicity                          99 non-null     object \n",
      " 7   Base Period                          314 non-null    object \n",
      " 8   Other notes                          552 non-null    object \n",
      " 9   Aggregation method                   47 non-null     object \n",
      " 10  Limitations and exceptions           14 non-null     object \n",
      " 11  Notes from original source           0 non-null      float64\n",
      " 12  General comments                     14 non-null     object \n",
      " 13  Source                               3665 non-null   object \n",
      " 14  Statistical concept and methodology  23 non-null     object \n",
      " 15  Development relevance                3 non-null      object \n",
      " 16  Related source links                 215 non-null    object \n",
      " 17  Other web links                      0 non-null      float64\n",
      " 18  Related indicators                   0 non-null      float64\n",
      " 19  License Type                         0 non-null      float64\n",
      " 20  Unnamed: 20                          0 non-null      float64\n",
      "dtypes: float64(6), object(15)\n",
      "memory usage: 601.4+ KB\n",
      "\n",
      "\n"
     ]
    }
   ],
   "source": [
    "for csv in csv_list:\n",
    "    print(csv+'\\n'+40*'-')\n",
    "    locals()[csv[:-4]].info()\n",
    "    print('\\n')"
   ]
  },
  {
   "cell_type": "markdown",
   "metadata": {},
   "source": [
    "## Tables shapes"
   ]
  },
  {
   "cell_type": "code",
   "execution_count": 7,
   "metadata": {},
   "outputs": [
    {
     "name": "stdout",
     "output_type": "stream",
     "text": [
      "Row\n",
      "------------------------------\n",
      "EdStatsCountry.csv: 241\n",
      "EdStatsCountry-Series.csv: 613\n",
      "EdStatsData.csv: 886930\n",
      "EdStatsFootNote.csv: 643638\n",
      "EdStatsSeries.csv: 3665\n",
      "\n",
      "Features\n",
      "------------------------------\n",
      "EdStatsCountry.csv: 32\n",
      "EdStatsCountry-Series.csv: 4\n",
      "EdStatsData.csv: 70\n",
      "EdStatsFootNote.csv: 5\n",
      "EdStatsSeries.csv: 21\n"
     ]
    }
   ],
   "source": [
    "print('Row\\n' + 30*'-')\n",
    "for csv in csv_list:\n",
    "    print(f\"{csv}: {str(locals()[csv[:-4]].shape[0])}\")\n",
    "    \n",
    "print('\\nFeatures\\n' + 30*'-')\n",
    "for csv in csv_list:\n",
    "    print(f\"{csv}: {str(locals()[csv[:-4]].shape[1])}\")  "
   ]
  },
  {
   "cell_type": "markdown",
   "metadata": {},
   "source": [
    "## Tables contents\n",
    "\n",
    "EdStatsSeries : informations about indicators (descriptions) >> for feature selection\n",
    "\n",
    "EdStatsCountry : country statistics (use incomes group)\n",
    "\n",
    "EdStatsCountrySeries : sources of StatSeries >> useless\n",
    "\n",
    "EdStatsData : country education statistics >> main data\n",
    "\n",
    "EdStatsFootNote : year of country indicator of EdStatsData are present >> for filtered EdStatsData with % data score\n",
    "\n",
    "## Datapoints (~ missing values)"
   ]
  },
  {
   "cell_type": "code",
   "execution_count": 8,
   "metadata": {},
   "outputs": [
    {
     "name": "stdout",
     "output_type": "stream",
     "text": [
      "\n",
      "Number of countries: 242\n",
      "Number of indicator per country: 3665\n",
      "\n"
     ]
    }
   ],
   "source": [
    "print(f\"\"\"\n",
    "Number of countries: {EdStatsData['Country Name'].nunique()}\n",
    "Number of indicator per country: {EdStatsData['Indicator Code'].nunique()}\n",
    "\"\"\")"
   ]
  },
  {
   "cell_type": "code",
   "execution_count": 9,
   "metadata": {},
   "outputs": [],
   "source": [
    "# drop unless columns and sort index to get the years columns first\n",
    "EdStatsData.drop(columns = 'Unnamed: 69', inplace = True)\n",
    "EdStatsData.sort_index(axis = 1, inplace = True)"
   ]
  },
  {
   "cell_type": "markdown",
   "metadata": {},
   "source": [
    "### Per years"
   ]
  },
  {
   "cell_type": "code",
   "execution_count": 10,
   "metadata": {},
   "outputs": [
    {
     "data": {
      "image/png": "[encoded data removed]",
      "text/plain": [
       "<Figure size 1152x576 with 1 Axes>"
      ]
     },
     "metadata": {
      "needs_background": "light"
     },
     "output_type": "display_data"
    }
   ],
   "source": [
    "filling_rate_per_years = EdStatsData.iloc[:, :-4].notna().sum(axis = 0) / EdStatsData.shape[0]\n",
    "plt.figure(figsize = (16, 8))\n",
    "sns.barplot(x = filling_rate_per_years.index, y = filling_rate_per_years.values)\n",
    "plt.xticks(rotation = 90)\n",
    "plt.title('Filling rate per year', fontweight = 'bold', loc = 'left')\n",
    "plt.show()"
   ]
  },
  {
   "cell_type": "markdown",
   "metadata": {},
   "source": [
    "> It can be seen that the period 1990 to 2015 is the most complete in terms of data."
   ]
  },
  {
   "cell_type": "code",
   "execution_count": 11,
   "metadata": {},
   "outputs": [
    {
     "data": {
      "text/plain": [
       "array(['Wittgenstein Projection: Mean years of schooling. Age 0-19. Female',\n",
       "       'Wittgenstein Projection: Mean years of schooling. Age 0-19. Male',\n",
       "       'Wittgenstein Projection: Mean years of schooling. Age 0-19. Total',\n",
       "       'Wittgenstein Projection: Mean years of schooling. Age 15+. Female',\n",
       "       'Wittgenstein Projection: Mean Years of Schooling. Age 15+. Gender Gap'],\n",
       "      dtype=object)"
      ]
     },
     "execution_count": 11,
     "metadata": {},
     "output_type": "execute_result"
    }
   ],
   "source": [
    "EdStatsData[EdStatsData.iloc[:,48:-4].isna().sum(axis = 1) != 17].iloc[:,48:]['Indicator Name'].unique()[:5]"
   ]
  },
  {
   "cell_type": "markdown",
   "metadata": {},
   "source": [
    "> Data after 2020 are projection indicators."
   ]
  },
  {
   "cell_type": "markdown",
   "metadata": {},
   "source": [
    "### Per indicators"
   ]
  },
  {
   "cell_type": "code",
   "execution_count": 12,
   "metadata": {},
   "outputs": [
    {
     "data": {
      "image/png": "[encoded data removed]",
      "text/plain": [
       "<Figure size 360x360 with 1 Axes>"
      ]
     },
     "metadata": {
      "needs_background": "light"
     },
     "output_type": "display_data"
    }
   ],
   "source": [
    "values_per_indicator = EdStatsData['Indicator Code'].value_counts()[0] * EdStatsData.iloc[:, :-4].shape[1]\n",
    "values_per_indicator = EdStatsData['Indicator Code'].value_counts()[0] * EdStatsData.iloc[:, :-4].shape[1]\n",
    "filling_rate_per_indicator = (EdStatsData.iloc[:, :-4].notna().groupby(EdStatsData['Indicator Code'], sort = False).sum().sum(axis = 1) / values_per_indicator).sort_values()\n",
    "sns.displot(filling_rate_per_indicator)\n",
    "plt.title('Filling rate per indicator distribution', fontweight = 'bold', loc = 'left')\n",
    "plt.show()"
   ]
  },
  {
   "cell_type": "markdown",
   "metadata": {},
   "source": [
    "> Most of the indicators have very little data."
   ]
  },
  {
   "cell_type": "code",
   "execution_count": 13,
   "metadata": {},
   "outputs": [
    {
     "data": {
      "text/plain": [
       "'% of indicators with more 50% of filled values: 1.69%'"
      ]
     },
     "execution_count": 13,
     "metadata": {},
     "output_type": "execute_result"
    }
   ],
   "source": [
    "f'% of indicators with more 50% of filled values: {(filling_rate_per_indicator > 0.5).sum() / len(filling_rate_per_indicator):.2%}'"
   ]
  },
  {
   "cell_type": "markdown",
   "metadata": {},
   "source": [
    "### Per country"
   ]
  },
  {
   "cell_type": "code",
   "execution_count": 14,
   "metadata": {},
   "outputs": [
    {
     "data": {
      "image/png": "[encoded data removed]",
      "text/plain": [
       "<Figure size 360x360 with 1 Axes>"
      ]
     },
     "metadata": {
      "needs_background": "light"
     },
     "output_type": "display_data"
    }
   ],
   "source": [
    "values_per_country = EdStatsData['Country Name'].value_counts()[0] * EdStatsData.iloc[:, :-4].shape[1]\n",
    "filling_rate_per_country = (EdStatsData.iloc[:, :-4].notna().groupby(EdStatsData['Country Name'], sort = False).sum().sum(axis = 1) / values_per_country).sort_values()\n",
    "sns.displot(filling_rate_per_country)\n",
    "plt.title('Filling rate per country distribution', fontweight = 'bold', loc = 'left')\n",
    "plt.show()"
   ]
  },
  {
   "cell_type": "markdown",
   "metadata": {},
   "source": [
    "> The filling rate is relatively low (around 12 and 14%).\n",
    "\n",
    "#### World map of datapoints"
   ]
  },
  {
   "cell_type": "code",
   "execution_count": null,
   "metadata": {},
   "outputs": [],
   "source": [
    "datapoints_map = folium.Map(location=[12,1], zoom_start=2)\n",
    "geo_dict = dict()\n",
    "for country, datapoints in filling_rate_per_country.iteritems():\n",
    "    try:\n",
    "        geo_dict[country] = {'latitude': geolocator.geocode(country.split(',')[0]).latitude,\n",
    "                             'longitude': geolocator.geocode(country.split(',')[0]).longitude}\n",
    "\n",
    "        folium.Circle(location=[geo_dict[country]['latitude'], geo_dict[country]['longitude']],\n",
    "              popup=country,\n",
    "              radius= datapoints * 1000000,\n",
    "              color='crimson',\n",
    "              fill=True,\n",
    "              fill_color='crimson').add_to(datapoints_map)\n",
    "    except Exception as e:                                    \n",
    "            print(f'Error {e} for {country}')"
   ]
  },
  {
   "cell_type": "code",
   "execution_count": null,
   "metadata": {},
   "outputs": [],
   "source": [
    "datapoints_map"
   ]
  },
  {
   "cell_type": "markdown",
   "metadata": {},
   "source": [
    "## Duplicates values"
   ]
  },
  {
   "cell_type": "code",
   "execution_count": 15,
   "metadata": {},
   "outputs": [
    {
     "data": {
      "text/plain": [
       "'% of duplicates values in EdStatsData: 3.48%'"
      ]
     },
     "execution_count": 15,
     "metadata": {},
     "output_type": "execute_result"
    }
   ],
   "source": [
    "EdStatsData_notna = EdStatsData[~EdStatsData.index.isin(EdStatsData.iloc[:,:-4][EdStatsData.iloc[:,:-4].notna().sum(axis =1) == 0].index)]\n",
    "f\"% of duplicates values in EdStatsData: {(len(EdStatsData_notna) - len(EdStatsData_notna.drop(columns = ['Indicator Name', 'Indicator Code']).drop_duplicates())) / len(EdStatsData_notna):.2%}\""
   ]
  },
  {
   "cell_type": "markdown",
   "metadata": {},
   "source": [
    "> Less than 2% of rows measures same things.\n",
    "\n",
    "## Data cleaning"
   ]
  },
  {
   "cell_type": "markdown",
   "metadata": {},
   "source": [
    "**Restrict analysis on 2000 to 2015**"
   ]
  },
  {
   "cell_type": "code",
   "execution_count": 16,
   "metadata": {},
   "outputs": [],
   "source": [
    "for column in EdStatsData.iloc[:,:-4].columns:\n",
    "    if int(column) > 2015 or int(column) < 2000:\n",
    "        EdStatsData.drop(columns = column, inplace = True)"
   ]
  },
  {
   "cell_type": "markdown",
   "metadata": {},
   "source": [
    "> Before 2000 there are too few data and they are too old for the purpose of the analysis. After 2015 there are no data or only projection indicators. \n",
    "\n",
    "**Exclude low income country from analysis**"
   ]
  },
  {
   "cell_type": "code",
   "execution_count": 17,
   "metadata": {},
   "outputs": [],
   "source": [
    "low_income_country_codes = EdStatsCountry[EdStatsCountry['Income Group'] == 'Low income']['Country Code'].values\n",
    "EdStatsData = EdStatsData[~EdStatsData['Country Code'].isin(low_income_country_codes)]\n",
    "EdStatsData.reset_index(drop=True, inplace=True)"
   ]
  },
  {
   "cell_type": "markdown",
   "metadata": {},
   "source": [
    "> Low income country aren't interesting markets\n",
    "\n",
    "**Keep only country from analysis**"
   ]
  },
  {
   "cell_type": "code",
   "execution_count": 18,
   "metadata": {},
   "outputs": [],
   "source": [
    "EdStatsData = EdStatsData.iloc[25 * 3665:]"
   ]
  },
  {
   "cell_type": "markdown",
   "metadata": {},
   "source": [
    "**Keep only country with a population superior than 1M**"
   ]
  },
  {
   "cell_type": "code",
   "execution_count": 19,
   "metadata": {},
   "outputs": [],
   "source": [
    "population_csv_path = '/Users/leoguillaume/Documents/openclassrooms-projects/openclassrooms-project-2/data/population_csv.csv'\n",
    "population = pd.read_csv(population_csv_path)\n",
    "population_2018 = population.drop_duplicates(subset = 'Country Code', keep = 'last')[['Country Code', 'Value']]\n",
    "EdStatsData = EdStatsData.merge(population_2018, on ='Country Code')\n",
    "EdStatsData.rename(columns = {'Value':'population'}, inplace = True)"
   ]
  },
  {
   "cell_type": "code",
   "execution_count": 20,
   "metadata": {},
   "outputs": [
    {
     "data": {
      "text/plain": [
       "count    6.706950e+05\n",
       "mean     3.618742e+07\n",
       "std      1.477648e+08\n",
       "min      1.150800e+04\n",
       "25%      4.846300e+05\n",
       "50%      4.867309e+06\n",
       "75%      1.872916e+07\n",
       "max      1.392730e+09\n",
       "Name: population, dtype: float64"
      ]
     },
     "execution_count": 20,
     "metadata": {},
     "output_type": "execute_result"
    }
   ],
   "source": [
    "EdStatsData.population.describe()"
   ]
  },
  {
   "cell_type": "code",
   "execution_count": 21,
   "metadata": {},
   "outputs": [],
   "source": [
    "EdStatsData = EdStatsData.loc[EdStatsData.population > EdStatsData.population.quantile(0.25)]"
   ]
  },
  {
   "cell_type": "code",
   "execution_count": 22,
   "metadata": {},
   "outputs": [
    {
     "name": "stdout",
     "output_type": "stream",
     "text": [
      "\n",
      "Number of countries: 137\n",
      "\n"
     ]
    }
   ],
   "source": [
    "print(f\"\"\"\n",
    "Number of countries: {EdStatsData['Country Name'].nunique()}\n",
    "\"\"\")"
   ]
  },
  {
   "cell_type": "markdown",
   "metadata": {},
   "source": [
    "## Feature selection\n",
    "### Ponctual feature\n",
    "\n",
    "- education rate in upper secondary school\n",
    "- education rate in tertiary school\n",
    "- internet covering\n",
    "\n",
    "**Metrics to feature selection**\n",
    "\n",
    "- filling value rate"
   ]
  },
  {
   "cell_type": "code",
   "execution_count": 23,
   "metadata": {},
   "outputs": [],
   "source": [
    "values_per_indicator_all_years = EdStatsData['Indicator Code'].value_counts()[0] * EdStatsData.iloc[:,:16].shape[1]\n",
    "filling_rate = (EdStatsData.iloc[:,:16].notna().groupby(EdStatsData['Indicator Code'], sort = False).sum().sum(axis = 1) / values_per_indicator_all_years)"
   ]
  },
  {
   "cell_type": "code",
   "execution_count": 24,
   "metadata": {},
   "outputs": [],
   "source": [
    "EdStatsSeries.set_index('Series Code', inplace = True)"
   ]
  },
  {
   "cell_type": "code",
   "execution_count": 25,
   "metadata": {},
   "outputs": [],
   "source": [
    "EdStatsSeries['filling_rate'] = filling_rate"
   ]
  },
  {
   "cell_type": "markdown",
   "metadata": {},
   "source": [
    "- mean of years of most recents datapoints "
   ]
  },
  {
   "cell_type": "code",
   "execution_count": 26,
   "metadata": {},
   "outputs": [],
   "source": [
    "df = EdStatsData.iloc[:,:16].transform(lambda x: np.where(x.isnull(), x, x.name))\n",
    "df.replace({'nan': np.NaN}, inplace = True)\n",
    "EdStatsData['last_year'] = df.ffill(axis = 1)['2015']"
   ]
  },
  {
   "cell_type": "code",
   "execution_count": 27,
   "metadata": {},
   "outputs": [],
   "source": [
    "EdStatsSeries['mean_most_recent_years'] = EdStatsData.groupby('Indicator Code').last_year.mean()"
   ]
  },
  {
   "cell_type": "markdown",
   "metadata": {},
   "source": [
    "**Search: education rate in upper secondary school**"
   ]
  },
  {
   "cell_type": "code",
   "execution_count": 28,
   "metadata": {},
   "outputs": [
    {
     "data": {
      "text/html": [
       "<div>\n",
       "<style scoped>\n",
       "    .dataframe tbody tr th:only-of-type {\n",
       "        vertical-align: middle;\n",
       "    }\n",
       "\n",
       "    .dataframe tbody tr th {\n",
       "        vertical-align: top;\n",
       "    }\n",
       "\n",
       "    .dataframe thead th {\n",
       "        text-align: right;\n",
       "    }\n",
       "</style>\n",
       "<table border=\"1\" class=\"dataframe\">\n",
       "  <thead>\n",
       "    <tr style=\"text-align: right;\">\n",
       "      <th></th>\n",
       "      <th>Long definition</th>\n",
       "      <th>mean_most_recent_years</th>\n",
       "      <th>filling_rate</th>\n",
       "    </tr>\n",
       "    <tr>\n",
       "      <th>Series Code</th>\n",
       "      <th></th>\n",
       "      <th></th>\n",
       "      <th></th>\n",
       "    </tr>\n",
       "  </thead>\n",
       "  <tbody>\n",
       "    <tr>\n",
       "      <th>UIS.FEP.3.GPV</th>\n",
       "      <td>Number of female general education students at the upper secondary level expressed as a percentage of the total number of general education students (male and female) at the upper secondary level in a given school year.</td>\n",
       "      <td>2013.320896</td>\n",
       "      <td>0.765055</td>\n",
       "    </tr>\n",
       "    <tr>\n",
       "      <th>SE.SEC.ENRR.UP</th>\n",
       "      <td>Total enrollment in upper secondary education, regardless of age, expressed as a percentage of the total population of official upper secondary education age.</td>\n",
       "      <td>2013.830769</td>\n",
       "      <td>0.762774</td>\n",
       "    </tr>\n",
       "    <tr>\n",
       "      <th>SE.SEC.ENRR.UP.MA</th>\n",
       "      <td>Total male enrollment in upper secondary education, regardless of age, expressed as a percentage of the male population of official upper secondary education age.</td>\n",
       "      <td>2013.891473</td>\n",
       "      <td>0.749088</td>\n",
       "    </tr>\n",
       "    <tr>\n",
       "      <th>UIS.FEP.3</th>\n",
       "      <td>Number of female students at the upper secondary level expressed as a percentage of the total number of students (male and female) at the upper secondary level in a given school year.</td>\n",
       "      <td>2013.045455</td>\n",
       "      <td>0.721259</td>\n",
       "    </tr>\n",
       "    <tr>\n",
       "      <th>UIS.GTVP.3.GPV</th>\n",
       "      <td>Total number of students enrolled in general programmes at the upper secondary education level, expressed as a percentage of the total number of students enrolled in all programmes (vocational and general) at the upper secondary level. General education is designed to develop learners’ general knowledge, skills and competencies and literacy and numeracy skills, often to prepare students for more advanced educational programmes at the same or higher ISCED levels and to lay the foundation for ...</td>\n",
       "      <td>2012.909091</td>\n",
       "      <td>0.703467</td>\n",
       "    </tr>\n",
       "  </tbody>\n",
       "</table>\n",
       "</div>"
      ],
      "text/plain": [
       "                                                                                                                                                                                                                                                                                                                                                                                                                                                                                                                       Long definition  \\\n",
       "Series Code                                                                                                                                                                                                                                                                                                                                                                                                                                                                                                                              \n",
       "UIS.FEP.3.GPV                                                                                                                                                                                                                                                                                              Number of female general education students at the upper secondary level expressed as a percentage of the total number of general education students (male and female) at the upper secondary level in a given school year.   \n",
       "SE.SEC.ENRR.UP                                                                                                                                                                                                                                                                                                                                                          Total enrollment in upper secondary education, regardless of age, expressed as a percentage of the total population of official upper secondary education age.   \n",
       "SE.SEC.ENRR.UP.MA                                                                                                                                                                                                                                                                                                                                                   Total male enrollment in upper secondary education, regardless of age, expressed as a percentage of the male population of official upper secondary education age.   \n",
       "UIS.FEP.3                                                                                                                                                                                                                                                                                                                                      Number of female students at the upper secondary level expressed as a percentage of the total number of students (male and female) at the upper secondary level in a given school year.   \n",
       "UIS.GTVP.3.GPV     Total number of students enrolled in general programmes at the upper secondary education level, expressed as a percentage of the total number of students enrolled in all programmes (vocational and general) at the upper secondary level. General education is designed to develop learners’ general knowledge, skills and competencies and literacy and numeracy skills, often to prepare students for more advanced educational programmes at the same or higher ISCED levels and to lay the foundation for ...   \n",
       "\n",
       "                   mean_most_recent_years  filling_rate  \n",
       "Series Code                                              \n",
       "UIS.FEP.3.GPV                 2013.320896      0.765055  \n",
       "SE.SEC.ENRR.UP                2013.830769      0.762774  \n",
       "SE.SEC.ENRR.UP.MA             2013.891473      0.749088  \n",
       "UIS.FEP.3                     2013.045455      0.721259  \n",
       "UIS.GTVP.3.GPV                2012.909091      0.703467  "
      ]
     },
     "execution_count": 28,
     "metadata": {},
     "output_type": "execute_result"
    }
   ],
   "source": [
    "upper_secondary_feature_list = feature_research('upper secondary', topic = 'Secondary', percentage = True)\n",
    "\n",
    "EdStatsSeries.loc[EdStatsSeries.index.isin(upper_secondary_feature_list),\n",
    "                  ['Long definition', 'mean_most_recent_years', 'filling_rate']\n",
    "                 ].sort_values(['filling_rate', 'mean_most_recent_years'], ascending = [False, False]).head(5)"
   ]
  },
  {
   "cell_type": "markdown",
   "metadata": {},
   "source": [
    "> **SE.SEC.ENRR.UP**: Total enrollment in upper secondary education, regardless of age, expressed as a percentage of the total population of official upper secondary education age.\n",
    "\n",
    "**Search: education rate in tertiary school**"
   ]
  },
  {
   "cell_type": "code",
   "execution_count": 29,
   "metadata": {},
   "outputs": [
    {
     "data": {
      "text/html": [
       "<div>\n",
       "<style scoped>\n",
       "    .dataframe tbody tr th:only-of-type {\n",
       "        vertical-align: middle;\n",
       "    }\n",
       "\n",
       "    .dataframe tbody tr th {\n",
       "        vertical-align: top;\n",
       "    }\n",
       "\n",
       "    .dataframe thead th {\n",
       "        text-align: right;\n",
       "    }\n",
       "</style>\n",
       "<table border=\"1\" class=\"dataframe\">\n",
       "  <thead>\n",
       "    <tr style=\"text-align: right;\">\n",
       "      <th></th>\n",
       "      <th>Long definition</th>\n",
       "      <th>mean_most_recent_years</th>\n",
       "      <th>filling_rate</th>\n",
       "    </tr>\n",
       "    <tr>\n",
       "      <th>Series Code</th>\n",
       "      <th></th>\n",
       "      <th></th>\n",
       "      <th></th>\n",
       "    </tr>\n",
       "  </thead>\n",
       "  <tbody>\n",
       "    <tr>\n",
       "      <th>UIS.GOER.56</th>\n",
       "      <td>Total number of mobile tertiary students coming from a country/region as a percentage of the population of tertiary student age in their home country.</td>\n",
       "      <td>2012.453846</td>\n",
       "      <td>0.791971</td>\n",
       "    </tr>\n",
       "    <tr>\n",
       "      <th>SE.TER.ENRR</th>\n",
       "      <td>Total enrollment in tertiary education (ISCED 5 to 8), regardless of age, expressed as a percentage of the total population of the five-year age group following on from secondary school leaving.</td>\n",
       "      <td>2013.300000</td>\n",
       "      <td>0.711679</td>\n",
       "    </tr>\n",
       "    <tr>\n",
       "      <th>SE.TER.ENRL.FE.ZS</th>\n",
       "      <td>Number of female students at the tertiary education level (ISCED 5 to 8) expressed as a percentage of the total number of students (male and female) at the tertiary education level (ISCED 5 to 8) in a given school year.</td>\n",
       "      <td>2013.406015</td>\n",
       "      <td>0.708485</td>\n",
       "    </tr>\n",
       "    <tr>\n",
       "      <th>SE.TER.ENRR.FE</th>\n",
       "      <td>Total female enrollment in tertiary education (ISCED 5 to 8), regardless of age, expressed as a percentage of the total female population of the five-year age group following on from secondary school leaving.</td>\n",
       "      <td>2013.325581</td>\n",
       "      <td>0.688412</td>\n",
       "    </tr>\n",
       "    <tr>\n",
       "      <th>SE.TER.ENRR.MA</th>\n",
       "      <td>Total male enrollment in tertiary education (ISCED 5 to 8), regardless of age, expressed as a percentage of the total male population of the five-year age group following on from secondary school leaving.</td>\n",
       "      <td>2013.325581</td>\n",
       "      <td>0.688412</td>\n",
       "    </tr>\n",
       "  </tbody>\n",
       "</table>\n",
       "</div>"
      ],
      "text/plain": [
       "                                                                                                                                                                                                                               Long definition  \\\n",
       "Series Code                                                                                                                                                                                                                                      \n",
       "UIS.GOER.56                                                                             Total number of mobile tertiary students coming from a country/region as a percentage of the population of tertiary student age in their home country.   \n",
       "SE.TER.ENRR                                 Total enrollment in tertiary education (ISCED 5 to 8), regardless of age, expressed as a percentage of the total population of the five-year age group following on from secondary school leaving.   \n",
       "SE.TER.ENRL.FE.ZS  Number of female students at the tertiary education level (ISCED 5 to 8) expressed as a percentage of the total number of students (male and female) at the tertiary education level (ISCED 5 to 8) in a given school year.   \n",
       "SE.TER.ENRR.FE                Total female enrollment in tertiary education (ISCED 5 to 8), regardless of age, expressed as a percentage of the total female population of the five-year age group following on from secondary school leaving.   \n",
       "SE.TER.ENRR.MA                    Total male enrollment in tertiary education (ISCED 5 to 8), regardless of age, expressed as a percentage of the total male population of the five-year age group following on from secondary school leaving.   \n",
       "\n",
       "                   mean_most_recent_years  filling_rate  \n",
       "Series Code                                              \n",
       "UIS.GOER.56                   2012.453846      0.791971  \n",
       "SE.TER.ENRR                   2013.300000      0.711679  \n",
       "SE.TER.ENRL.FE.ZS             2013.406015      0.708485  \n",
       "SE.TER.ENRR.FE                2013.325581      0.688412  \n",
       "SE.TER.ENRR.MA                2013.325581      0.688412  "
      ]
     },
     "execution_count": 29,
     "metadata": {},
     "output_type": "execute_result"
    }
   ],
   "source": [
    "tertiary_feature_list = feature_research('tertiary', topic = 'Tertiary', percentage = True)\n",
    "\n",
    "EdStatsSeries.loc[EdStatsSeries.index.isin(tertiary_feature_list),\n",
    "                  ['Long definition', 'mean_most_recent_years', 'filling_rate']\n",
    "                 ].sort_values(['filling_rate', 'mean_most_recent_years',], ascending = [False, False]).head(5)"
   ]
  },
  {
   "cell_type": "markdown",
   "metadata": {},
   "source": [
    "> **SE.TER.ENRR**: Total enrollment in tertiary education (ISCED 5 to 8), regardless of age, expressed as a percentage of the total population of the five-year age group following on from secondary school leaving.\n",
    "\n",
    "**Search: internet covering**"
   ]
  },
  {
   "cell_type": "code",
   "execution_count": 30,
   "metadata": {},
   "outputs": [
    {
     "data": {
      "text/html": [
       "<div>\n",
       "<style scoped>\n",
       "    .dataframe tbody tr th:only-of-type {\n",
       "        vertical-align: middle;\n",
       "    }\n",
       "\n",
       "    .dataframe tbody tr th {\n",
       "        vertical-align: top;\n",
       "    }\n",
       "\n",
       "    .dataframe thead th {\n",
       "        text-align: right;\n",
       "    }\n",
       "</style>\n",
       "<table border=\"1\" class=\"dataframe\">\n",
       "  <thead>\n",
       "    <tr style=\"text-align: right;\">\n",
       "      <th></th>\n",
       "      <th>Indicator Name</th>\n",
       "      <th>Long definition</th>\n",
       "      <th>filling_rate</th>\n",
       "      <th>mean_most_recent_years</th>\n",
       "    </tr>\n",
       "    <tr>\n",
       "      <th>Series Code</th>\n",
       "      <th></th>\n",
       "      <th></th>\n",
       "      <th></th>\n",
       "      <th></th>\n",
       "    </tr>\n",
       "  </thead>\n",
       "  <tbody>\n",
       "    <tr>\n",
       "      <th>IT.CMP.PCMP.P2</th>\n",
       "      <td>Personal computers (per 100 people)</td>\n",
       "      <td>Personal computers are self-contained computers designed to be used by a single individual.</td>\n",
       "      <td>0.405566</td>\n",
       "      <td>2006.007576</td>\n",
       "    </tr>\n",
       "    <tr>\n",
       "      <th>IT.NET.USER.P2</th>\n",
       "      <td>Internet users (per 100 people)</td>\n",
       "      <td>Internet users are individuals who have used the Internet (from any location) in the last 3 months. The Internet can be used via a computer, mobile phone, personal digital assistant, games machine, digital TV etc.</td>\n",
       "      <td>0.969434</td>\n",
       "      <td>2015.000000</td>\n",
       "    </tr>\n",
       "  </tbody>\n",
       "</table>\n",
       "</div>"
      ],
      "text/plain": [
       "                                     Indicator Name  \\\n",
       "Series Code                                           \n",
       "IT.CMP.PCMP.P2  Personal computers (per 100 people)   \n",
       "IT.NET.USER.P2      Internet users (per 100 people)   \n",
       "\n",
       "                                                                                                                                                                                                                      Long definition  \\\n",
       "Series Code                                                                                                                                                                                                                             \n",
       "IT.CMP.PCMP.P2                                                                                                                            Personal computers are self-contained computers designed to be used by a single individual.   \n",
       "IT.NET.USER.P2  Internet users are individuals who have used the Internet (from any location) in the last 3 months. The Internet can be used via a computer, mobile phone, personal digital assistant, games machine, digital TV etc.   \n",
       "\n",
       "                filling_rate  mean_most_recent_years  \n",
       "Series Code                                           \n",
       "IT.CMP.PCMP.P2      0.405566             2006.007576  \n",
       "IT.NET.USER.P2      0.969434             2015.000000  "
      ]
     },
     "execution_count": 30,
     "metadata": {},
     "output_type": "execute_result"
    }
   ],
   "source": [
    "EdStatsSeries.loc[EdStatsSeries.Topic == 'Infrastructure: Communications', \n",
    "                  ['Indicator Name', 'Long definition', 'filling_rate', 'mean_most_recent_years']\n",
    "                 ]"
   ]
  },
  {
   "cell_type": "markdown",
   "metadata": {},
   "source": [
    "> **IT.NET.USER.P2**: Internet users are individuals who have used the Internet (from any location) in the last 3 months. The Internet can be used via a computer, mobile phone, personal digital assistant, games machine, digital TV etc."
   ]
  },
  {
   "cell_type": "markdown",
   "metadata": {},
   "source": [
    "### Temporal indicators\n",
    "\n",
    "- upper secondary school growth\n",
    "- tertiary school growth\n",
    "- primary school growth\n",
    "- education expenditure growth\n",
    "\n",
    "**Metric to feature selection**\n",
    "\n",
    "- filling rate\n",
    "\n",
    "> **SE.SEC.ENRR.UP**: Total enrollment in upper secondary education, regardless of age, expressed as a percentage of the total population of official upper secondary education age.<br>\n",
    "**SE.TER.ENRR**: Total enrollment in tertiary education (ISCED 5 to 8), regardless of age, expressed as a percentage of the total population of the five-year age group following on from secondary school leaving.\n",
    "\n",
    "**Search: primary school**"
   ]
  },
  {
   "cell_type": "code",
   "execution_count": 31,
   "metadata": {},
   "outputs": [
    {
     "data": {
      "text/html": [
       "<div>\n",
       "<style scoped>\n",
       "    .dataframe tbody tr th:only-of-type {\n",
       "        vertical-align: middle;\n",
       "    }\n",
       "\n",
       "    .dataframe tbody tr th {\n",
       "        vertical-align: top;\n",
       "    }\n",
       "\n",
       "    .dataframe thead th {\n",
       "        text-align: right;\n",
       "    }\n",
       "</style>\n",
       "<table border=\"1\" class=\"dataframe\">\n",
       "  <thead>\n",
       "    <tr style=\"text-align: right;\">\n",
       "      <th></th>\n",
       "      <th>Long definition</th>\n",
       "      <th>mean_most_recent_years</th>\n",
       "      <th>filling_rate</th>\n",
       "    </tr>\n",
       "    <tr>\n",
       "      <th>Series Code</th>\n",
       "      <th></th>\n",
       "      <th></th>\n",
       "      <th></th>\n",
       "    </tr>\n",
       "  </thead>\n",
       "  <tbody>\n",
       "    <tr>\n",
       "      <th>SE.PRM.ENRL.FE.ZS</th>\n",
       "      <td>Number of female students at the primary level expressed as a percentage of the total number of students (male and female) at the primary level in a given school year.</td>\n",
       "      <td>2014.345588</td>\n",
       "      <td>0.870894</td>\n",
       "    </tr>\n",
       "    <tr>\n",
       "      <th>SE.PRM.ENRR</th>\n",
       "      <td>Total enrollment in primary education, regardless of age, expressed as a percentage of the population of official primary education age. GER can exceed 100% due to the inclusion of over-aged and under-aged students because of early or late school entrance and grade repetition.</td>\n",
       "      <td>2014.240602</td>\n",
       "      <td>0.849909</td>\n",
       "    </tr>\n",
       "    <tr>\n",
       "      <th>SE.PRM.ENRR.FE</th>\n",
       "      <td>Total female enrollment in primary education, regardless of age, expressed as a percentage of the female population of official primary education age. GER can exceed 100% due to the inclusion of over-aged and under-aged students because of early or late school entrance and grade repetition.</td>\n",
       "      <td>2014.240602</td>\n",
       "      <td>0.846715</td>\n",
       "    </tr>\n",
       "    <tr>\n",
       "      <th>SE.PRM.ENRR.MA</th>\n",
       "      <td>Total male enrollment in primary education, regardless of age, expressed as a percentage of the male population of official primary education age. GER can exceed 100% due to the inclusion of over-aged and under-aged students because of early or late school entrance and grade repetition.</td>\n",
       "      <td>2014.240602</td>\n",
       "      <td>0.846715</td>\n",
       "    </tr>\n",
       "    <tr>\n",
       "      <th>SE.PRM.PRIV.ZS</th>\n",
       "      <td>Total number of students in primary education enrolled in institutions that are not operated by a public authority but controlled and managed, whether for profit or not, by a private body (e.g., non-governmental organisation, religious body, special interest group, foundation or business enterprise), expressed as a percentage of total number of students enrolled in primary education.</td>\n",
       "      <td>2014.369231</td>\n",
       "      <td>0.756843</td>\n",
       "    </tr>\n",
       "  </tbody>\n",
       "</table>\n",
       "</div>"
      ],
      "text/plain": [
       "                                                                                                                                                                                                                                                                                                                                                                                                      Long definition  \\\n",
       "Series Code                                                                                                                                                                                                                                                                                                                                                                                                             \n",
       "SE.PRM.ENRL.FE.ZS                                                                                                                                                                                                                             Number of female students at the primary level expressed as a percentage of the total number of students (male and female) at the primary level in a given school year.   \n",
       "SE.PRM.ENRR                                                                                                                     Total enrollment in primary education, regardless of age, expressed as a percentage of the population of official primary education age. GER can exceed 100% due to the inclusion of over-aged and under-aged students because of early or late school entrance and grade repetition.   \n",
       "SE.PRM.ENRR.FE                                                                                                    Total female enrollment in primary education, regardless of age, expressed as a percentage of the female population of official primary education age. GER can exceed 100% due to the inclusion of over-aged and under-aged students because of early or late school entrance and grade repetition.   \n",
       "SE.PRM.ENRR.MA                                                                                                        Total male enrollment in primary education, regardless of age, expressed as a percentage of the male population of official primary education age. GER can exceed 100% due to the inclusion of over-aged and under-aged students because of early or late school entrance and grade repetition.   \n",
       "SE.PRM.PRIV.ZS     Total number of students in primary education enrolled in institutions that are not operated by a public authority but controlled and managed, whether for profit or not, by a private body (e.g., non-governmental organisation, religious body, special interest group, foundation or business enterprise), expressed as a percentage of total number of students enrolled in primary education.   \n",
       "\n",
       "                   mean_most_recent_years  filling_rate  \n",
       "Series Code                                              \n",
       "SE.PRM.ENRL.FE.ZS             2014.345588      0.870894  \n",
       "SE.PRM.ENRR                   2014.240602      0.849909  \n",
       "SE.PRM.ENRR.FE                2014.240602      0.846715  \n",
       "SE.PRM.ENRR.MA                2014.240602      0.846715  \n",
       "SE.PRM.PRIV.ZS                2014.369231      0.756843  "
      ]
     },
     "execution_count": 31,
     "metadata": {},
     "output_type": "execute_result"
    }
   ],
   "source": [
    "primary_feature_list = feature_research('primary', topic = 'Primary', percentage = True)\n",
    "\n",
    "EdStatsSeries.loc[EdStatsSeries.index.isin(primary_feature_list),\n",
    "                  ['Long definition', 'mean_most_recent_years', 'filling_rate']\n",
    "                 ].sort_values(['filling_rate', 'mean_most_recent_years',], ascending = [False, False]).head(5)"
   ]
  },
  {
   "cell_type": "markdown",
   "metadata": {},
   "source": [
    "> **SE.PRM.ENRR**: Total enrollment in primary education, regardless of age, expressed as a percentage of the population of official primary education age. GER can exceed 100% due to the inclusion of over-aged and under-aged students because of early or late school entrance and grade repetition.\n",
    "\n",
    "**Search: education expenditure**"
   ]
  },
  {
   "cell_type": "code",
   "execution_count": 32,
   "metadata": {},
   "outputs": [
    {
     "data": {
      "text/html": [
       "<div>\n",
       "<style scoped>\n",
       "    .dataframe tbody tr th:only-of-type {\n",
       "        vertical-align: middle;\n",
       "    }\n",
       "\n",
       "    .dataframe tbody tr th {\n",
       "        vertical-align: top;\n",
       "    }\n",
       "\n",
       "    .dataframe thead th {\n",
       "        text-align: right;\n",
       "    }\n",
       "</style>\n",
       "<table border=\"1\" class=\"dataframe\">\n",
       "  <thead>\n",
       "    <tr style=\"text-align: right;\">\n",
       "      <th></th>\n",
       "      <th>Long definition</th>\n",
       "      <th>filling_rate</th>\n",
       "    </tr>\n",
       "    <tr>\n",
       "      <th>Series Code</th>\n",
       "      <th></th>\n",
       "      <th></th>\n",
       "    </tr>\n",
       "  </thead>\n",
       "  <tbody>\n",
       "    <tr>\n",
       "      <th>SE.XPD.TOTL.GD.ZS</th>\n",
       "      <td>Total general (local, regional and central) government expenditure on education (current, capital, and transfers), expressed as a percentage of GDP. It includes expenditure funded by transfers from international sources to government. Divide total government expenditure for a given level of education (ex. primary, secondary, or all levels combined) by the GDP, and multiply by 100. A higher percentage of GDP spent on education shows a higher government priority for education, but also a highe...</td>\n",
       "      <td>0.604471</td>\n",
       "    </tr>\n",
       "    <tr>\n",
       "      <th>SE.XPD.TOTL.GB.ZS</th>\n",
       "      <td>Total general (local, regional and central) government expenditure on education (current, capital, and transfers), expressed as a percentage of total general government expenditure on all sectors (including health, education, social services, etc.). It includes expenditure funded by transfers from international sources to government. Public education expenditure includes spending by local/municipal, regional and national governments (excluding household contributions) on educational institut...</td>\n",
       "      <td>0.586223</td>\n",
       "    </tr>\n",
       "    <tr>\n",
       "      <th>SE.XPD.TERT.ZS</th>\n",
       "      <td>Expenditure on education by level of education, expressed as a percentage of total general government expenditure on education. Divide government expenditure on a given level of education (ex. primary, secondary) by total government expenditure on education (all levels combined), and multiply by 100. A high percentage of government expenditure on education spent on a given level denotes a high priority given to that level compared to others. When interpreting this indicator, one should take ...</td>\n",
       "      <td>0.496350</td>\n",
       "    </tr>\n",
       "    <tr>\n",
       "      <th>SE.XPD.PRIM.PC.ZS</th>\n",
       "      <td>Average total (current, capital and transfers) general government expenditure per student in the given level of education, expressed as a percentage of GDP per capita. Divide total government expenditure for a given level of education (ex. primary, secondary) by total enrolment in that same level, divide again by GDP per capita, and multiply by 100. For more information, consult the UNESCO Institute of Statistics website: http://www.uis.unesco.org/Education/</td>\n",
       "      <td>0.457117</td>\n",
       "    </tr>\n",
       "    <tr>\n",
       "      <th>UIS.XGDP.56.FSGOV</th>\n",
       "      <td>Total general (local, regional and central) government expenditure on tertiary education (current, capital, and transfers), expressed as a percentage of GDP. It includes expenditure funded by transfers from international sources to government. Divide total government expenditure for a given level of education (ex. primary, secondary, or all levels combined) by the GDP, and multiply by 100. For more information, consult the UNESCO Institute of Statistics website: http://www.uis.unesco.org/Edu...</td>\n",
       "      <td>0.450730</td>\n",
       "    </tr>\n",
       "  </tbody>\n",
       "</table>\n",
       "</div>"
      ],
      "text/plain": [
       "                                                                                                                                                                                                                                                                                                                                                                                                                                                                                                                       Long definition  \\\n",
       "Series Code                                                                                                                                                                                                                                                                                                                                                                                                                                                                                                                              \n",
       "SE.XPD.TOTL.GD.ZS  Total general (local, regional and central) government expenditure on education (current, capital, and transfers), expressed as a percentage of GDP. It includes expenditure funded by transfers from international sources to government. Divide total government expenditure for a given level of education (ex. primary, secondary, or all levels combined) by the GDP, and multiply by 100. A higher percentage of GDP spent on education shows a higher government priority for education, but also a highe...   \n",
       "SE.XPD.TOTL.GB.ZS  Total general (local, regional and central) government expenditure on education (current, capital, and transfers), expressed as a percentage of total general government expenditure on all sectors (including health, education, social services, etc.). It includes expenditure funded by transfers from international sources to government. Public education expenditure includes spending by local/municipal, regional and national governments (excluding household contributions) on educational institut...   \n",
       "SE.XPD.TERT.ZS     Expenditure on education by level of education, expressed as a percentage of total general government expenditure on education. Divide government expenditure on a given level of education (ex. primary, secondary) by total government expenditure on education (all levels combined), and multiply by 100. A high percentage of government expenditure on education spent on a given level denotes a high priority given to that level compared to others. When interpreting this indicator, one should take ...   \n",
       "SE.XPD.PRIM.PC.ZS                                       Average total (current, capital and transfers) general government expenditure per student in the given level of education, expressed as a percentage of GDP per capita. Divide total government expenditure for a given level of education (ex. primary, secondary) by total enrolment in that same level, divide again by GDP per capita, and multiply by 100. For more information, consult the UNESCO Institute of Statistics website: http://www.uis.unesco.org/Education/   \n",
       "UIS.XGDP.56.FSGOV  Total general (local, regional and central) government expenditure on tertiary education (current, capital, and transfers), expressed as a percentage of GDP. It includes expenditure funded by transfers from international sources to government. Divide total government expenditure for a given level of education (ex. primary, secondary, or all levels combined) by the GDP, and multiply by 100. For more information, consult the UNESCO Institute of Statistics website: http://www.uis.unesco.org/Edu...   \n",
       "\n",
       "                   filling_rate  \n",
       "Series Code                      \n",
       "SE.XPD.TOTL.GD.ZS      0.604471  \n",
       "SE.XPD.TOTL.GB.ZS      0.586223  \n",
       "SE.XPD.TERT.ZS         0.496350  \n",
       "SE.XPD.PRIM.PC.ZS      0.457117  \n",
       "UIS.XGDP.56.FSGOV      0.450730  "
      ]
     },
     "execution_count": 32,
     "metadata": {},
     "output_type": "execute_result"
    }
   ],
   "source": [
    "expenditure_feature_list = feature_research('education', topic = 'Expenditures', percentage = True)\n",
    "\n",
    "EdStatsSeries.loc[EdStatsSeries.index.isin(expenditure_feature_list),\n",
    "                  ['Long definition', 'filling_rate']\n",
    "                 ].sort_values(['filling_rate'], ascending = False).head(5)"
   ]
  },
  {
   "cell_type": "markdown",
   "metadata": {},
   "source": [
    "> **SE.XPD.TOTL.GD.ZS**: Total general (local, regional and central) government expenditure on education (current, capital, and transfers), expressed as a percentage of GDP. It includes expenditure funded by transfers from international sources to government. "
   ]
  },
  {
   "cell_type": "markdown",
   "metadata": {},
   "source": [
    "## Features analysis"
   ]
  },
  {
   "cell_type": "code",
   "execution_count": 33,
   "metadata": {},
   "outputs": [],
   "source": [
    "ponctual_indicators = ['SE.SEC.ENRR.UP', 'SE.TER.ENRR', 'IT.NET.USER.P2']\n",
    "temporal_indicators = ['SE.SEC.ENRR.UP', 'SE.TER.ENRR', 'SE.PRM.ENRR', 'SE.XPD.TOTL.GD.ZS']"
   ]
  },
  {
   "cell_type": "markdown",
   "metadata": {},
   "source": [
    "### Cluster definition\n",
    "\n",
    "- per regions\n",
    "- per language\n",
    "- per country\n",
    "\n",
    "**Regions list**"
   ]
  },
  {
   "cell_type": "code",
   "execution_count": 34,
   "metadata": {},
   "outputs": [],
   "source": [
    "EdStatsData = EdStatsData.merge(EdStatsCountry[['Region', 'Country Code', 'Income Group']], on ='Country Code')\n",
    "regions_list = EdStatsData.Region.unique()[pd.notnull(EdStatsData.Region.unique())]"
   ]
  },
  {
   "cell_type": "code",
   "execution_count": 35,
   "metadata": {},
   "outputs": [
    {
     "data": {
      "image/png": "[encoded data removed]",
      "text/plain": [
       "<Figure size 432x288 with 1 Axes>"
      ]
     },
     "metadata": {
      "needs_background": "light"
     },
     "output_type": "display_data"
    }
   ],
   "source": [
    "plt.title('Distribution of country per region')\n",
    "sns.barplot(x = EdStatsData['Region'].value_counts().index, y = EdStatsData['Region'].value_counts().values)\n",
    "plt.xticks(rotation = 90)\n",
    "plt.show()"
   ]
  },
  {
   "cell_type": "markdown",
   "metadata": {},
   "source": [
    "**Languages list**"
   ]
  },
  {
   "cell_type": "code",
   "execution_count": 36,
   "metadata": {},
   "outputs": [
    {
     "name": "stdout",
     "output_type": "stream",
     "text": [
      "Error with Arab World, code: 1A\n",
      "Error with Channel Islands, code: JG\n",
      "Error with Dem. Rep. Congo, code: ZR\n",
      "Error with East Asia & Pacific (developing only), code: 4E\n",
      "Error with East Asia & Pacific (all income levels), code: Z4\n",
      "Error with Europe & Central Asia (developing only), code: 7E\n",
      "Error with Europe & Central Asia (all income levels), code: Z7\n",
      "Error with Euro area, code: XC\n",
      "Error with European Union, code: EU\n",
      "Error with High income, code: XD\n",
      "Error with Heavily indebted poor countries (HIPC), code: XE\n",
      "Error with Latin America & Caribbean (developing only), code: XJ\n",
      "Error with Latin America & Caribbean (all income levels), code: ZJ\n",
      "Error with Least developed countries: UN classification, code: XL\n",
      "Error with Low income, code: XM\n",
      "Error with Lower middle income, code: XN\n",
      "Error with Low & middle income, code: XO\n",
      "Error with Middle East & North Africa (all income levels), code: ZQ\n",
      "Error with Middle income, code: XP\n",
      "Error with Middle East & North Africa (developing only), code: XQ\n",
      "Error with North America, code: XU\n",
      "Error with Namibia, code: nan\n",
      "Error with OECD members, code: OE\n",
      "Error with West Bank and Gaza, code: GZ\n",
      "Error with South Asia, code: 8S\n",
      "Error with Serbia, code: YF\n",
      "Error with Sub-Saharan Africa (developing only), code: ZF\n",
      "Error with Sub-Saharan Africa (all income levels), code: ZG\n",
      "Error with Timor-Leste, code: TP\n",
      "Error with Upper middle income, code: XT\n",
      "Error with World, code: 1W\n",
      "Error with Kosovo, code: KV\n",
      "Error with Yemen, code: RY\n"
     ]
    }
   ],
   "source": [
    "EdStatsData['iso_code_alpha2'] = EdStatsData['Country Code'].apply(iso_code_alpha_3_to_alpha_2)\n",
    "territory_languages = get_territory_languages()\n",
    "language_dict = dict()\n",
    "for name, iso_3, iso_2 in tuple(EdStatsCountry[['Short Name', 'Country Code', 'WB-2 code']].values): \n",
    "    try:\n",
    "        language_dict[iso_3] =  list(territory_languages[iso_2].keys())[0]\n",
    "    except:\n",
    "        print(f'Error with {name}, code: {iso_2}')"
   ]
  },
  {
   "cell_type": "code",
   "execution_count": 37,
   "metadata": {},
   "outputs": [],
   "source": [
    "EdStatsData['language'] = EdStatsData['Country Code'].apply(map_language)\n",
    "isolate_languages = EdStatsData.language.value_counts()[EdStatsData.language.value_counts() == 3665].index\n",
    "EdStatsData['language_2'] = EdStatsData['language'].apply(map_isolate_languages)"
   ]
  },
  {
   "cell_type": "code",
   "execution_count": 44,
   "metadata": {},
   "outputs": [
    {
     "data": {
      "text/plain": [
       "67"
      ]
     },
     "execution_count": 44,
     "metadata": {},
     "output_type": "execute_result"
    }
   ],
   "source": [
    "EdStatsData['language'].nunique()"
   ]
  },
  {
   "cell_type": "code",
   "execution_count": 38,
   "metadata": {},
   "outputs": [
    {
     "data": {
      "image/png": "[encoded data removed]",
      "text/plain": [
       "<Figure size 432x288 with 1 Axes>"
      ]
     },
     "metadata": {
      "needs_background": "light"
     },
     "output_type": "display_data"
    }
   ],
   "source": [
    "plt.title('Distribution of languages')\n",
    "sns.barplot(x = EdStatsData['language_2'].value_counts().index, y = EdStatsData['language_2'].value_counts().values)\n",
    "plt.xticks(rotation = 90)\n",
    "plt.show()"
   ]
  },
  {
   "cell_type": "markdown",
   "metadata": {},
   "source": [
    "### Ponctual features"
   ]
  },
  {
   "cell_type": "code",
   "execution_count": 39,
   "metadata": {},
   "outputs": [],
   "source": [
    "last_values = EdStatsData.iloc[:,:16].ffill(axis = 1)['2015']\n",
    "EdStatsData['last_value'] = last_values"
   ]
  },
  {
   "cell_type": "markdown",
   "metadata": {},
   "source": [
    "#### Per regions"
   ]
  },
  {
   "cell_type": "code",
   "execution_count": 40,
   "metadata": {},
   "outputs": [
    {
     "data": {
      "image/png": "[encoded data removed]",
      "text/plain": [
       "<Figure size 1008x288 with 3 Axes>"
      ]
     },
     "metadata": {
      "needs_background": "light"
     },
     "output_type": "display_data"
    },
    {
     "data": {
      "image/png": "[encoded data removed]",
      "text/plain": [
       "<Figure size 1008x288 with 3 Axes>"
      ]
     },
     "metadata": {
      "needs_background": "light"
     },
     "output_type": "display_data"
    },
    {
     "data": {
      "image/png": "[encoded data removed]",
      "text/plain": [
       "<Figure size 1008x288 with 3 Axes>"
      ]
     },
     "metadata": {
      "needs_background": "light"
     },
     "output_type": "display_data"
    }
   ],
   "source": [
    "for indicator in ponctual_indicators:\n",
    "    \n",
    "    plt.figure(figsize = (14, 4))\n",
    "    plt.suptitle(t = f\"{indicator}\", weight = 'bold')\n",
    "    df = EdStatsData.loc[EdStatsData['Indicator Code'] == indicator, ['Country Name', 'last_value', 'Region']]\n",
    "    \n",
    "    plt.subplot(1, 3, 1)\n",
    "    plt.title(label= 'Means', loc = 'left')\n",
    "    df_mean = df.groupby('Region').last_value.mean().sort_values()\n",
    "    sns.barplot(x = df_mean.index, y = df_mean.values)\n",
    "    plt.xticks(rotation = 90)\n",
    "    \n",
    "    plt.subplot(1, 3, 2)\n",
    "    plt.title(label= 'Missing values', loc = 'left')\n",
    "    df_missing = (df.set_index('Region').last_value.isna().sum(level=0) / df.set_index('Region').last_value.count()).sort_values()\n",
    "    sns.barplot(x = df_missing.index, y = df_missing.values)\n",
    "    plt.xticks(rotation = 90)\n",
    "    \n",
    "    plt.subplot(1, 3, 3)\n",
    "    plt.title(label= 'Box plots', loc = 'left')\n",
    "    sns.boxplot(x='Region', y= 'last_value', data=df)\n",
    "    plt.xticks(rotation = 90)\n",
    "    plt.show()"
   ]
  },
  {
   "cell_type": "code",
   "execution_count": 41,
   "metadata": {},
   "outputs": [
    {
     "ename": "NameError",
     "evalue": "name 'ponctual_features' is not defined",
     "output_type": "error",
     "traceback": [
      "\u001b[0;31m---------------------------------------------------------------------------\u001b[0m",
      "\u001b[0;31mNameError\u001b[0m                                 Traceback (most recent call last)",
      "\u001b[0;32m<ipython-input-41-a31f48b7ee4d>\u001b[0m in \u001b[0;36m<module>\u001b[0;34m\u001b[0m\n\u001b[1;32m      5\u001b[0m     country = np.random.choice(EdStatsData.loc[(EdStatsData['Region'] == region)  & (EdStatsData.last_value.notna()), \n\u001b[1;32m      6\u001b[0m                                                 'Country Name'].unique(), 2)\n\u001b[0;32m----> 7\u001b[0;31m     x = EdStatsData.loc[(EdStatsData['Indicator Code'] == ponctual_features[0]) &\n\u001b[0m\u001b[1;32m      8\u001b[0m                 \u001b[0;34m(\u001b[0m\u001b[0mEdStatsData\u001b[0m\u001b[0;34m[\u001b[0m\u001b[0;34m'Country Name'\u001b[0m\u001b[0;34m]\u001b[0m\u001b[0;34m.\u001b[0m\u001b[0misin\u001b[0m\u001b[0;34m(\u001b[0m\u001b[0mcountry\u001b[0m\u001b[0;34m)\u001b[0m\u001b[0;34m)\u001b[0m\u001b[0;34m,\u001b[0m\u001b[0;34m\u001b[0m\u001b[0;34m\u001b[0m\u001b[0m\n\u001b[1;32m      9\u001b[0m                  'last_value'].values\n",
      "\u001b[0;31mNameError\u001b[0m: name 'ponctual_features' is not defined"
     ]
    }
   ],
   "source": [
    "selected_country_name = list()\n",
    "selected_country_x = list()\n",
    "selected_country_y = list()\n",
    "for region in regions_list:\n",
    "    country = np.random.choice(EdStatsData.loc[(EdStatsData['Region'] == region)  & (EdStatsData.last_value.notna()), \n",
    "                                                'Country Name'].unique(), 2)\n",
    "    x = EdStatsData.loc[(EdStatsData['Indicator Code'] == ponctual_features[0]) &\n",
    "                (EdStatsData['Country Name'].isin(country)),\n",
    "                 'last_value'].values\n",
    "    y = EdStatsData.loc[(EdStatsData['Indicator Code'] == ponctual_features[1]) & \n",
    "                (EdStatsData['Country Name'].isin(country)),\n",
    "                 'last_value'].values    \n",
    "    selected_country_name += country.tolist()\n",
    "    selected_country_x += x.tolist()\n",
    "    selected_country_y += y.tolist()\n",
    "    \n",
    "x = EdStatsData.loc[EdStatsData['Indicator Code'] == ponctual_features[0], 'last_value'].values\n",
    "y = EdStatsData.loc[EdStatsData['Indicator Code'] == ponctual_features[1], 'last_value'].values\n",
    "hue = EdStatsData.loc[EdStatsData['Indicator Code'] == ponctual_features[1], 'Region'].values\n",
    "\n",
    "plt.figure(figsize = (16, 12))\n",
    "sns.scatterplot(x=x, y=y, hue=hue, alpha = 0.7)\n",
    "plt.xlabel(f\"{ponctual_features[0]}\")\n",
    "plt.ylabel(f\"{ponctual_features[1]}\")\n",
    "for x, y, country in zip(selected_country_x, selected_country_y, selected_country_name):\n",
    "    plt.text(x = x + 0.5, y = y + 1, s = country, weight = 'bold')"
   ]
  },
  {
   "cell_type": "markdown",
   "metadata": {},
   "source": [
    "#### Per languages"
   ]
  },
  {
   "cell_type": "code",
   "execution_count": null,
   "metadata": {},
   "outputs": [],
   "source": [
    "for feature in ponctual_features:\n",
    "    \n",
    "    plt.figure(figsize = (14, 4))\n",
    "    plt.suptitle(t = f\"{feature}\", weight = 'bold')\n",
    "    df = EdStatsData.loc[EdStatsData['Indicator Code'] == feature, ['Country Name', 'last_value', 'language_2']]\n",
    "    \n",
    "    plt.subplot(1, 3, 1)\n",
    "    plt.title(label= 'Means', loc = 'left')\n",
    "    df_mean = df.groupby('language_2').last_value.mean().sort_values()\n",
    "    sns.barplot(x = df_mean.index, y = df_mean.values)\n",
    "    plt.xticks(rotation = 90)\n",
    "    \n",
    "    plt.subplot(1, 3, 2)\n",
    "    plt.title(label= 'Missing values', loc = 'left')\n",
    "    df_missing = (df.set_index('language_2').last_value.isna().sum(level=0) / df.set_index('language_2').last_value.count()).sort_values()\n",
    "    sns.barplot(x = df_missing.index, y = df_missing.values)\n",
    "    plt.xticks(rotation = 90)\n",
    "    \n",
    "    plt.subplot(1, 3, 3)\n",
    "    plt.title(label= 'Box plots', loc = 'left')\n",
    "    sns.boxplot(x='language_2', y= 'last_value', data=df)\n",
    "    plt.xticks(rotation = 90)\n",
    "    plt.show()"
   ]
  },
  {
   "cell_type": "code",
   "execution_count": null,
   "metadata": {},
   "outputs": [],
   "source": [
    "languages_list = EdStatsData.language_2.unique()[pd.notnull(EdStatsData.language_2.unique())]"
   ]
  },
  {
   "cell_type": "code",
   "execution_count": null,
   "metadata": {},
   "outputs": [],
   "source": [
    "selected_country_name = list()\n",
    "selected_country_x = list()\n",
    "selected_country_y = list()\n",
    "for language in languages_list:\n",
    "    country = np.random.choice(EdStatsData.loc[(EdStatsData['language_2'] == language)  & (EdStatsData.last_value.notna()), \n",
    "                                                'Country Name'].unique(), 1)\n",
    "    x = EdStatsData.loc[(EdStatsData['Indicator Code'] == ponctual_features[0]) &\n",
    "                (EdStatsData['Country Name'].isin(country)),\n",
    "                 'last_value'].values\n",
    "    y = EdStatsData.loc[(EdStatsData['Indicator Code'] == ponctual_features[1]) & \n",
    "                (EdStatsData['Country Name'].isin(country)),\n",
    "                 'last_value'].values    \n",
    "    selected_country_name += country.tolist()\n",
    "    selected_country_x += x.tolist()\n",
    "    selected_country_y += y.tolist()\n",
    "    \n",
    "x = EdStatsData.loc[EdStatsData['Indicator Code'] == ponctual_features[0], 'last_value'].values\n",
    "y = EdStatsData.loc[EdStatsData['Indicator Code'] == ponctual_features[1], 'last_value'].values\n",
    "hue = EdStatsData.loc[EdStatsData['Indicator Code'] == ponctual_features[1], 'language_2'].values\n",
    "\n",
    "plt.figure(figsize = (16, 12))\n",
    "sns.scatterplot(x=x, y=y, hue=hue, alpha = 0.7)\n",
    "plt.xlabel(f\"{ponctual_features[0]}\")\n",
    "plt.ylabel(f\"{ponctual_features[1]}\")\n",
    "for x, y, country in zip(selected_country_x, selected_country_y, selected_country_name):\n",
    "    plt.text(x = x + 0.5, y = y + 1, s = country, weight = 'bold')"
   ]
  },
  {
   "cell_type": "markdown",
   "metadata": {},
   "source": [
    "### Temporal features"
   ]
  },
  {
   "cell_type": "code",
   "execution_count": null,
   "metadata": {},
   "outputs": [],
   "source": [
    "EdStatsData['filling_rate'] = EdStatsData.iloc[:,:16].notna().sum(axis = 1) / 26"
   ]
  },
  {
   "cell_type": "markdown",
   "metadata": {},
   "source": [
    "#### Per regions"
   ]
  },
  {
   "cell_type": "code",
   "execution_count": null,
   "metadata": {},
   "outputs": [],
   "source": [
    "plt.figure(figsize = (12, len(temporal_features) * 6))\n",
    "for i, feature in enumerate(temporal_features):\n",
    "    plt.subplot(len(temporal_features), 1, i+1)\n",
    "    df = EdStatsData.loc[EdStatsData['Indicator Code'] == feature].groupby('Region').mean().iloc[:, :16].transpose()\n",
    "    sns.lineplot(data = df)\n",
    "    plt.xticks(rotation = 80)\n",
    "    plt.title(label = feature, loc = 'left', weight = 'bold')\n",
    "plt.show()"
   ]
  },
  {
   "cell_type": "markdown",
   "metadata": {},
   "source": [
    "#### Per languages"
   ]
  },
  {
   "cell_type": "code",
   "execution_count": null,
   "metadata": {},
   "outputs": [],
   "source": [
    "selected_languages = EdStatsData.language_2.value_counts(normalize=True)[:6].index"
   ]
  },
  {
   "cell_type": "code",
   "execution_count": null,
   "metadata": {},
   "outputs": [],
   "source": [
    "plt.figure(figsize = (12, len(temporal_features) * 6))\n",
    "for i, feature in enumerate(temporal_features):\n",
    "    plt.subplot(len(temporal_features), 1, i+1)\n",
    "    df = EdStatsData.loc[(EdStatsData['Indicator Code'] == feature) &\n",
    "                         (EdStatsData['language_2'].isin(selected_languages))].groupby('language_2').mean().iloc[:, :16].transpose()\n",
    "    sns.lineplot(data = df)\n",
    "    plt.xticks(rotation = 80)\n",
    "    plt.title(label = feature, loc = 'left', weight = 'bold')\n",
    "plt.show()"
   ]
  },
  {
   "cell_type": "markdown",
   "metadata": {},
   "source": [
    "## Scoring\n",
    "\n",
    "**Define scoring metric**\n",
    "\n",
    "- Ponctual features : $\\sum{\\text{most recent value}\\times weight}$\n",
    "\n",
    "\n",
    "- Temporal features : $\\sum{\\frac{\\text{lost recent value} - \\text{less recent value}}{\\text{number of years}}\\times weight}$\n",
    "\n",
    "\n",
    "- Score: ponctual scores + temporal scores\n",
    "\n",
    "**Weights**\n",
    "\n",
    "Ponctual : \n",
    "\n",
    "- SE.SEC.ENRR.UP > 0.3\n",
    "- SE.TER.ENRR > 0.3\n",
    "- IT.NET.USER.P2 > 0.4\n",
    "\n",
    "Temporal : \n",
    "\n",
    "- SE.SEC.ENRR.UP > 0.3\n",
    "- SE.TER.ENRR > 0.3\n",
    "- SE.PRM.ENRR > 0.3\n",
    "- SE.XPD.TOTL.GD.ZS > 0.1"
   ]
  },
  {
   "cell_type": "code",
   "execution_count": null,
   "metadata": {},
   "outputs": [],
   "source": [
    "ponctual_weights = [0.3, 0.3, 0.1]\n",
    "temporal_weights = [0.3, 0.3, 0.3, 0.1]"
   ]
  },
  {
   "cell_type": "code",
   "execution_count": null,
   "metadata": {},
   "outputs": [],
   "source": [
    "ponctual_scores = pd.Series(np.zeros(EdStatsData['Country Name'].nunique()))\n",
    "for indicator, weight in zip(ponctual_indicators, temporal_weights):\n",
    "    df = EdStatsData.loc[EdStatsData['Indicator Code'] == indicator]\n",
    "    ponctual_scores += (df.last_value * weight).reset_index(drop = True)"
   ]
  },
  {
   "cell_type": "code",
   "execution_count": null,
   "metadata": {},
   "outputs": [],
   "source": [
    "ponctual_scores.index = EdStatsData['Country Name'].unique()"
   ]
  },
  {
   "cell_type": "code",
   "execution_count": null,
   "metadata": {},
   "outputs": [],
   "source": [
    "df = EdStatsData.iloc[:,:16].transform(lambda x: np.where(x.isnull(), x, x.name))\n",
    "df.replace('nan', np.NaN, inplace = True)\n",
    "EdStatsData['first_year'] = df.bfill(axis = 1)['2000']\n",
    "EdStatsData.first_year.fillna(-1, inplace = True)\n",
    "EdStatsData.first_year = EdStatsData.first_year.astype(int)\n",
    "EdStatsData.first_year.replace(-1, np.NaN, inplace = True)"
   ]
  },
  {
   "cell_type": "code",
   "execution_count": null,
   "metadata": {},
   "outputs": [],
   "source": [
    "temporal_scores = pd.Series(np.zeros(EdStatsData['Country Name'].nunique()))\n",
    "for indicator, weight in zip(temporal_indicators, temporal_weights):\n",
    "    df = EdStatsData.loc[EdStatsData['Indicator Code'] == indicator]\n",
    "    temporal_scores += (((df.last_value - df.first_value) / (df.last_year - df.first_year)) * weight).reset_index(drop = True)"
   ]
  },
  {
   "cell_type": "code",
   "execution_count": null,
   "metadata": {},
   "outputs": [],
   "source": [
    "temporal_scores.index = EdStatsData['Country Name'].unique()"
   ]
  },
  {
   "cell_type": "code",
   "execution_count": null,
   "metadata": {},
   "outputs": [],
   "source": [
    "scores = ponctual_scores + temporal_scores"
   ]
  },
  {
   "cell_type": "code",
   "execution_count": null,
   "metadata": {},
   "outputs": [],
   "source": [
    "sns.distplot(scores)"
   ]
  },
  {
   "cell_type": "markdown",
   "metadata": {},
   "source": [
    "### Score analysis"
   ]
  },
  {
   "cell_type": "markdown",
   "metadata": {},
   "source": [
    "### Per regions"
   ]
  },
  {
   "cell_type": "code",
   "execution_count": null,
   "metadata": {},
   "outputs": [],
   "source": [
    "plt.figure(figsize = (25, 20))\n",
    "plt.subplots_adjust(hspace = 0.5)\n",
    "plt.suptitle(t= 'Top 10 score per region', weight = 'bold')\n",
    "for i, region in enumerate(regions_list):\n",
    "    plt.subplot(3, 3, i+1)\n",
    "    plt.title(f\"{region}\", loc = 'left')\n",
    "    s = scores[EdStatsData.loc[EdStatsData.Region == region, 'Country Name'].unique()].sort_values().dropna().iloc[-10:]\n",
    "    sns.barplot(x = s.index, y = s.values)\n",
    "    plt.xticks(rotation = 80)\n",
    "plt.show()"
   ]
  },
  {
   "cell_type": "markdown",
   "metadata": {},
   "source": [
    "### Per languages"
   ]
  },
  {
   "cell_type": "code",
   "execution_count": null,
   "metadata": {},
   "outputs": [],
   "source": [
    "plt.figure(figsize = (25, 20))\n",
    "plt.subplots_adjust(hspace = 0.5)\n",
    "plt.suptitle(t= 'Top 10 score per language', weight = 'bold')\n",
    "\n",
    "for i, language in enumerate(selected_languages):\n",
    "    plt.subplot(3, 3, i+1)\n",
    "    plt.title(f\"{language}\", loc = 'left', weight = 'bold')\n",
    "    s = scores[EdStatsData.loc[EdStatsData.language_2 == language, 'Country Name'].unique()].sort_values().dropna().iloc[-10:]\n",
    "    sns.barplot(x = s.index, y = s.values)\n",
    "    plt.xticks(rotation = 80)\n",
    "plt.show()"
   ]
  },
  {
   "cell_type": "code",
   "execution_count": null,
   "metadata": {},
   "outputs": [],
   "source": [
    "temporal_scores[EdStatsData.loc[EdStatsData.language == 'en', 'Country Name'].unique()].sort_values(ascending = False)"
   ]
  },
  {
   "cell_type": "markdown",
   "metadata": {},
   "source": [
    "Ireland, Philippines, New Zealand"
   ]
  }
 ],
 "metadata": {
  "kernelspec": {
   "display_name": "Python 3",
   "language": "python",
   "name": "python3"
  },
  "language_info": {
   "codemirror_mode": {
    "name": "ipython",
    "version": 3
   },
   "file_extension": ".py",
   "mimetype": "text/x-python",
   "name": "python",
   "nbconvert_exporter": "python",
   "pygments_lexer": "ipython3",
   "version": "3.7.6"
  }
 },
 "nbformat": 4,
 "nbformat_minor": 4
}
